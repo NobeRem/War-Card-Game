{
 "cells": [
  {
   "cell_type": "code",
   "execution_count": 2,
   "id": "33a8fcad",
   "metadata": {},
   "outputs": [],
   "source": [
    "'''Creating Cards'''\n",
    "suits = ('Hearts', 'Diamonds', 'Spades', 'Clubs')\n",
    "ranks = ('Two', 'Three', 'Four', 'Five', 'Six', 'Seven', 'Eight', 'Nine', 'Ten', 'Jack', 'Queen', 'King', 'Ace')\n",
    "nums = {'Two':2, 'Three':3, 'Four':4, 'Five':5, 'Six':6, 'Seven':7, 'Eight':8, \n",
    "            'Nine':9, 'Ten':10, 'Jack':11, 'Queen':12, 'King':13, 'Ace':14}\n",
    "class Card:\n",
    "    \n",
    "    \n",
    "    def __init__(self,suit,rank):\n",
    "        self.suit = suit\n",
    "        self.rank = rank\n",
    "        self.num = nums[rank]\n",
    "   ## implementing str allows to call name of cards ##      \n",
    "\n",
    "    def __str__(self):\n",
    "        return self.rank  +  ' of ' + self.suit + ' # ' + str(self.num)\n"
   ]
  },
  {
   "cell_type": "code",
   "execution_count": 3,
   "id": "e22b9853",
   "metadata": {},
   "outputs": [],
   "source": [
    "card1 = Card(suits[0], ranks[0])"
   ]
  },
  {
   "cell_type": "code",
   "execution_count": 4,
   "id": "cbded3b8",
   "metadata": {},
   "outputs": [
    {
     "name": "stdout",
     "output_type": "stream",
     "text": [
      "Two of Hearts # 2\n"
     ]
    }
   ],
   "source": [
    "print(card1)"
   ]
  },
  {
   "cell_type": "code",
   "execution_count": 5,
   "id": "bd857e7a",
   "metadata": {},
   "outputs": [
    {
     "data": {
      "text/plain": [
       "2"
      ]
     },
     "execution_count": 5,
     "metadata": {},
     "output_type": "execute_result"
    }
   ],
   "source": [
    "card1.num"
   ]
  },
  {
   "cell_type": "code",
   "execution_count": 6,
   "id": "5c9c5967",
   "metadata": {},
   "outputs": [],
   "source": [
    "'''Import Random to shuffle cards'''\n",
    "import random \n",
    "## Creat deck by creating a new string and appending card objects ##\n",
    "class Deck:\n",
    "    def __init__(self):\n",
    "        self.al_deck = []\n",
    "        for suit in suits:\n",
    "            for rank in ranks:\n",
    "               \n",
    "                 self.al_deck.append(Card(suit,rank))\n",
    "                \n",
    "## Creating a fucntion that will shuffle deck using imported random call ##\n",
    "    def shuffle(self):\n",
    "        random.shuffle(self.al_deck)\n",
    "## Create a function that will remove cards from deck ##        \n",
    "    def deal_card(self):\n",
    "        \n",
    "        return self.al_deck.pop()\n",
    "        \n",
    "                    "
   ]
  },
  {
   "cell_type": "code",
   "execution_count": 7,
   "id": "3bab051b",
   "metadata": {},
   "outputs": [],
   "source": [
    "mydeck = Deck()"
   ]
  },
  {
   "cell_type": "code",
   "execution_count": 8,
   "id": "0fa8f32f",
   "metadata": {},
   "outputs": [
    {
     "data": {
      "text/plain": [
       "52"
      ]
     },
     "execution_count": 8,
     "metadata": {},
     "output_type": "execute_result"
    }
   ],
   "source": [
    "len(mydeck.al_deck)"
   ]
  },
  {
   "cell_type": "code",
   "execution_count": 9,
   "id": "71ecface",
   "metadata": {},
   "outputs": [
    {
     "name": "stdout",
     "output_type": "stream",
     "text": [
      "Two of Hearts # 2\n"
     ]
    }
   ],
   "source": [
    "print(mydeck.al_deck[0])"
   ]
  },
  {
   "cell_type": "code",
   "execution_count": 10,
   "id": "e3a7acf5",
   "metadata": {},
   "outputs": [],
   "source": [
    "mydeck.shuffle()"
   ]
  },
  {
   "cell_type": "code",
   "execution_count": 11,
   "id": "76fc81f7",
   "metadata": {},
   "outputs": [
    {
     "name": "stdout",
     "output_type": "stream",
     "text": [
      "Queen of Diamonds # 12\n"
     ]
    }
   ],
   "source": [
    "print(mydeck.al_deck[0])"
   ]
  },
  {
   "cell_type": "code",
   "execution_count": 12,
   "id": "e676121f",
   "metadata": {},
   "outputs": [],
   "source": [
    "po = mydeck.deal_card()"
   ]
  },
  {
   "cell_type": "code",
   "execution_count": 13,
   "id": "947eab4e",
   "metadata": {},
   "outputs": [
    {
     "name": "stdout",
     "output_type": "stream",
     "text": [
      "Seven of Diamonds # 7\n"
     ]
    }
   ],
   "source": [
    "print(po)"
   ]
  },
  {
   "cell_type": "code",
   "execution_count": 14,
   "id": "208c2d03",
   "metadata": {},
   "outputs": [],
   "source": [
    "card=mydeck.deal_card()"
   ]
  },
  {
   "cell_type": "code",
   "execution_count": 15,
   "id": "c753d1e8",
   "metadata": {},
   "outputs": [
    {
     "data": {
      "text/plain": [
       "12"
      ]
     },
     "execution_count": 15,
     "metadata": {},
     "output_type": "execute_result"
    }
   ],
   "source": [
    "card.num"
   ]
  },
  {
   "cell_type": "code",
   "execution_count": 16,
   "id": "ba316830",
   "metadata": {},
   "outputs": [],
   "source": [
    "\n",
    "class Player:\n",
    "    def __init__(self,name):\n",
    "        self.name = name\n",
    "## Player class starts of with empty deck ##        \n",
    "        self.al_deck = []\n",
    "\n",
    "## Function that will add cards to a players deck    \n",
    "    def add(self,play_cards):\n",
    "        self.play_cards = play_cards\n",
    "        if isinstance(play_cards, list):\n",
    "            self.al_deck.extend(self.play_cards)\n",
    "        else:\n",
    "            self.al_deck.append(self.play_cards)\n",
    "        \n",
    "## Function letting the player show a card        \n",
    "    def show(self):\n",
    "        return self.al_deck.pop()\n",
    "        \n",
    "    def __str__(self):\n",
    "        return (f'{self.name} card amount: {len(self.al_deck)}')\n",
    "        \n",
    "        "
   ]
  },
  {
   "cell_type": "code",
   "execution_count": 17,
   "id": "be4b1d50",
   "metadata": {},
   "outputs": [],
   "source": [
    "p1 = Player('p1')"
   ]
  },
  {
   "cell_type": "code",
   "execution_count": 18,
   "id": "5a078f54",
   "metadata": {},
   "outputs": [
    {
     "name": "stdout",
     "output_type": "stream",
     "text": [
      "p1 card amount: 0\n"
     ]
    }
   ],
   "source": [
    "print(p1)"
   ]
  },
  {
   "cell_type": "code",
   "execution_count": 19,
   "id": "09423f1a",
   "metadata": {},
   "outputs": [
    {
     "name": "stdout",
     "output_type": "stream",
     "text": [
      "Two of Hearts # 2\n"
     ]
    }
   ],
   "source": [
    "print(card1)"
   ]
  },
  {
   "cell_type": "code",
   "execution_count": 20,
   "id": "117e79f2",
   "metadata": {},
   "outputs": [],
   "source": [
    "p1.add(card1)"
   ]
  },
  {
   "cell_type": "code",
   "execution_count": 21,
   "id": "7a893aa6",
   "metadata": {},
   "outputs": [
    {
     "name": "stdout",
     "output_type": "stream",
     "text": [
      "p1 card amount: 1\n"
     ]
    }
   ],
   "source": [
    "print(p1)"
   ]
  },
  {
   "cell_type": "code",
   "execution_count": 22,
   "id": "7fc71aa5",
   "metadata": {},
   "outputs": [],
   "source": [
    "p1.add(card1)"
   ]
  },
  {
   "cell_type": "code",
   "execution_count": 23,
   "id": "edfb4722",
   "metadata": {},
   "outputs": [
    {
     "name": "stdout",
     "output_type": "stream",
     "text": [
      "p1 card amount: 2\n"
     ]
    }
   ],
   "source": [
    "print(p1)"
   ]
  },
  {
   "cell_type": "code",
   "execution_count": 24,
   "id": "33f4971c",
   "metadata": {},
   "outputs": [
    {
     "data": {
      "text/plain": [
       "<__main__.Card at 0x297fe45b100>"
      ]
     },
     "execution_count": 24,
     "metadata": {},
     "output_type": "execute_result"
    }
   ],
   "source": [
    "p1.show()"
   ]
  },
  {
   "cell_type": "code",
   "execution_count": 25,
   "id": "dbf14531",
   "metadata": {},
   "outputs": [
    {
     "name": "stdout",
     "output_type": "stream",
     "text": [
      "p1 card amount: 1\n"
     ]
    }
   ],
   "source": [
    "print(p1)"
   ]
  },
  {
   "cell_type": "code",
   "execution_count": 26,
   "id": "e31dccad",
   "metadata": {},
   "outputs": [],
   "source": [
    "p1.add(card1)"
   ]
  },
  {
   "cell_type": "code",
   "execution_count": 27,
   "id": "193ca340",
   "metadata": {},
   "outputs": [
    {
     "name": "stdout",
     "output_type": "stream",
     "text": [
      "p1 card amount: 2\n"
     ]
    }
   ],
   "source": [
    "print(p1)"
   ]
  },
  {
   "cell_type": "code",
   "execution_count": 28,
   "id": "3a1339b9",
   "metadata": {},
   "outputs": [],
   "source": [
    "k = p1.show()"
   ]
  },
  {
   "cell_type": "code",
   "execution_count": 29,
   "id": "3f76e0e6",
   "metadata": {},
   "outputs": [
    {
     "name": "stdout",
     "output_type": "stream",
     "text": [
      "Two of Hearts # 2\n"
     ]
    }
   ],
   "source": [
    "print(k)"
   ]
  },
  {
   "cell_type": "code",
   "execution_count": null,
   "id": "19943fc9",
   "metadata": {},
   "outputs": [],
   "source": []
  },
  {
   "cell_type": "code",
   "execution_count": 30,
   "id": "27cb1a76",
   "metadata": {},
   "outputs": [
    {
     "data": {
      "text/plain": [
       "<bound method Deck.shuffle of <__main__.Deck object at 0x00000297FE5422B0>>"
      ]
     },
     "execution_count": 30,
     "metadata": {},
     "output_type": "execute_result"
    }
   ],
   "source": [
    "## Game Setup\n",
    "\n",
    "player_1 = Player('player1')\n",
    "player_2 = Player('player2')\n",
    "\n",
    "game_deck = Deck()\n",
    "game_deck.shuffle\n"
   ]
  },
  {
   "cell_type": "code",
   "execution_count": 31,
   "id": "ca2fe16b",
   "metadata": {},
   "outputs": [
    {
     "data": {
      "text/plain": [
       "26.0"
      ]
     },
     "execution_count": 31,
     "metadata": {},
     "output_type": "execute_result"
    }
   ],
   "source": [
    "len(game_deck.al_deck)/2"
   ]
  },
  {
   "cell_type": "code",
   "execution_count": 32,
   "id": "333f031b",
   "metadata": {},
   "outputs": [],
   "source": [
    "## Split the amount of cards by 2 and share them between players\n",
    "\n",
    "for c in range(26):\n",
    "    player_1.add(game_deck.deal_card())\n",
    "    player_2.add(game_deck.deal_card())"
   ]
  },
  {
   "cell_type": "code",
   "execution_count": 33,
   "id": "75c29e95",
   "metadata": {},
   "outputs": [
    {
     "name": "stdout",
     "output_type": "stream",
     "text": [
      "player1 card amount: 26\n"
     ]
    }
   ],
   "source": [
    "print(player_1)"
   ]
  },
  {
   "cell_type": "code",
   "execution_count": 34,
   "id": "c45ccf37",
   "metadata": {},
   "outputs": [
    {
     "name": "stdout",
     "output_type": "stream",
     "text": [
      "player2 card amount: 26\n"
     ]
    }
   ],
   "source": [
    "print(player_2)"
   ]
  },
  {
   "cell_type": "code",
   "execution_count": 35,
   "id": "a5961156",
   "metadata": {},
   "outputs": [
    {
     "name": "stdout",
     "output_type": "stream",
     "text": [
      "Ace of Clubs # 14\n"
     ]
    }
   ],
   "source": [
    "print(player_1.al_deck[0])"
   ]
  },
  {
   "cell_type": "code",
   "execution_count": 36,
   "id": "c9c4c23a",
   "metadata": {},
   "outputs": [
    {
     "name": "stdout",
     "output_type": "stream",
     "text": [
      "Five of Clubs # 5\n"
     ]
    }
   ],
   "source": [
    "print(player_2.al_deck[4])"
   ]
  },
  {
   "cell_type": "code",
   "execution_count": 37,
   "id": "b0a2b7e5",
   "metadata": {},
   "outputs": [],
   "source": [
    "game_on = True"
   ]
  },
  {
   "cell_type": "code",
   "execution_count": 39,
   "id": "715916f1",
   "metadata": {},
   "outputs": [
    {
     "name": "stdout",
     "output_type": "stream",
     "text": [
      "Round 1\n",
      "Round 2\n",
      "Round 3\n",
      "Round 4\n",
      "Round 5\n",
      "Round 6\n",
      "Round 7\n",
      "Round 8\n",
      "Round 9\n",
      "Round 10\n",
      "Round 11\n",
      "Tie Cards, It is War\n",
      "Round 12\n",
      "Round 13\n",
      "Round 14\n",
      "Round 15\n",
      "Round 16\n",
      "Round 17\n",
      "Player 1 Out of Cards\n",
      "player 2 Wins! \n"
     ]
    }
   ],
   "source": [
    "round_n = 0\n",
    "    \n",
    "while game_on:\n",
    "    round_n += 1\n",
    "    print(f'Round {round_n}')\n",
    "    \n",
    "## Game set to end if player cards are less than 0   \n",
    "    \n",
    "    if len(player_1.al_deck) == 0:\n",
    "        print('Player 1 Out of Cards')\n",
    "        print('player 2 Wins! ')\n",
    "        game_on = False\n",
    "        break\n",
    "        \n",
    "    if len(player_2.al_deck) == 0:\n",
    "        print('Player 2 Out of Cards')\n",
    "        print('Player 1 Wins! ')\n",
    "        game_on = False\n",
    "        break\n",
    "        \n",
    "## Create a new string for player drawn cards        \n",
    "   \n",
    "    player_1_cards = []   \n",
    "    player_1_cards.append(player_1.show())\n",
    "    \n",
    "    player_2_cards = []\n",
    "    player_2_cards.append(player_2.show())\n",
    "    \n",
    "    at_war = True\n",
    "    \n",
    "\n",
    "    while at_war:\n",
    "        \n",
    "        if player_1_cards[-1].num > player_2_cards[-1].num:\n",
    "            player_1.add(player_2_cards)\n",
    "            at_war = False\n",
    "            \n",
    "        elif player_2_cards[-1].num > player_1_cards[-1].num:\n",
    "            player_2.add(player_1_cards)\n",
    "            \n",
    "            at_war = False\n",
    "            \n",
    "        else:\n",
    "            print('Tie Cards, It is War')\n",
    "            \n",
    "            if len(player_1.al_deck) < 5:\n",
    "                print('Player 1 has lost!!')\n",
    "                print('Player 2 Wins!! ')\n",
    "                \n",
    "            elif len(player_2.al_deck) < 5:\n",
    "                print('Player 2 has lost')\n",
    "                print('Player 1 Winss!')\n",
    "                \n",
    "                \n",
    "            else:\n",
    "                for c in range(5):\n",
    "                    player_1_cards.append(player_1.show())\n",
    "                    player_2_cards.append(player_1.show())\n",
    "                    \n",
    "                \n",
    "                    \n",
    "        \n",
    "    "
   ]
  },
  {
   "cell_type": "code",
   "execution_count": null,
   "id": "3117b913",
   "metadata": {},
   "outputs": [],
   "source": []
  }
 ],
 "metadata": {
  "kernelspec": {
   "display_name": "Python 3 (ipykernel)",
   "language": "python",
   "name": "python3"
  },
  "language_info": {
   "codemirror_mode": {
    "name": "ipython",
    "version": 3
   },
   "file_extension": ".py",
   "mimetype": "text/x-python",
   "name": "python",
   "nbconvert_exporter": "python",
   "pygments_lexer": "ipython3",
   "version": "3.9.12"
  }
 },
 "nbformat": 4,
 "nbformat_minor": 5
}
